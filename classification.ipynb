{
 "cells": [
  {
   "cell_type": "code",
   "execution_count": 1,
   "id": "838e6f9e",
   "metadata": {},
   "outputs": [],
   "source": [
    "# References:\n",
    "# https://github.com/speakleash/speakleash\n",
    "# https://github.com/speakleash/speakleash-postprocesor/blob/main/postprocessor/analyzer.py\n",
    "#https://github.com/mglabska/speakleash_filters/blob/master/quality.py\n",
    "\n",
    "import numpy as np\n",
    "import pandas as pd\n",
    "import pickle\n",
    "import plotly.express as px\n",
    "\n",
    "from sklearn.ensemble import RandomForestClassifier\n",
    "from sklearn.metrics import classification_report, f1_score, cohen_kappa_score\n",
    "from sklearn.model_selection import train_test_split\n",
    "from sklearn.pipeline import make_pipeline\n",
    "from sklearn.preprocessing import MinMaxScaler, LabelEncoder\n",
    "from sklearn.svm import SVC\n"
   ]
  },
  {
   "cell_type": "code",
   "execution_count": 2,
   "id": "824082c6",
   "metadata": {},
   "outputs": [],
   "source": [
    "with open(\"to_train.pkl\",\"rb\") as f:\n",
    "    df0 = pickle.load(f)"
   ]
  },
  {
   "cell_type": "code",
   "execution_count": 3,
   "id": "ca1ec12b",
   "metadata": {},
   "outputs": [],
   "source": [
    "df0['lang_code'] = LabelEncoder().fit_transform(df0['lang'])\n",
    "df0['quality_code'] = LabelEncoder().fit_transform(df0['quality'])\n",
    "df = df0.drop_duplicates(subset=['text'], ignore_index=True)"
   ]
  },
  {
   "cell_type": "markdown",
   "id": "5bc2eea3",
   "metadata": {},
   "source": [
    "##### Wybór cech do modelu"
   ]
  },
  {
   "cell_type": "code",
   "execution_count": 11,
   "id": "54287833",
   "metadata": {},
   "outputs": [
    {
     "name": "stdout",
     "output_type": "stream",
     "text": [
      "sentences 32372302.623521484\n",
      "words 8551123140.282231\n",
      "verbs 225290738.56488192\n",
      "nouns 377346153.0335532\n",
      "punctuations 268655708.1473618\n",
      "symbols 2031830.2583450757\n",
      "stopwords 1926608237.6859195\n",
      "oovs 35954693.12028914\n",
      "characters 312368892141.2147\n",
      "avg_sentence_length 203.9210788118909\n",
      "adverbs 41522394.905414954\n",
      "adjectives 41167184.26653016\n",
      "avg_word_length 2437.653466437213\n",
      "noun_ratio 0.004411648991665757\n",
      "verb_ratio 0.0022266927574530805\n",
      "adj_ratio 0.001875892500723232\n",
      "lexical_density 0.03776475911294878\n",
      "gunning_fog 22.83365034460358\n",
      "pos_x 1384252.749069247\n",
      "pos_num 984827.8313246252\n",
      "camel_case 37018.86700152373\n",
      "capitalized_words 1901337.8186562927\n",
      "lang_code 0.02264209092904807\n",
      "quality_code 0.34048139999926536\n"
     ]
    }
   ],
   "source": [
    "df = df.select_dtypes(include=['int64','float64', 'int32','float32'])\n",
    "for col in df.columns:\n",
    "    print(col, df[col].var())\n",
    "\n",
    "fig = px.bar(np.log(df.drop('quality_code', axis=1).var()))\n",
    "fig.write_html(f\"imgs/var_bar.html\")"
   ]
  },
  {
   "cell_type": "code",
   "execution_count": 12,
   "id": "b661d437",
   "metadata": {},
   "outputs": [],
   "source": [
    "fig = px.imshow(df.corr())\n",
    "fig.write_html(f\"imgs/corr_matrix.html\")"
   ]
  },
  {
   "cell_type": "markdown",
   "id": "3c144ba3",
   "metadata": {},
   "source": [
    "##### SVC"
   ]
  },
  {
   "cell_type": "code",
   "execution_count": 6,
   "id": "1c9936c0",
   "metadata": {},
   "outputs": [
    {
     "name": "stdout",
     "output_type": "stream",
     "text": [
      "              precision    recall  f1-score   support\n",
      "\n",
      "           0       1.00      0.00      0.00      2070\n",
      "           1       0.58      1.00      0.74      3505\n",
      "           2       1.00      0.00      0.00       424\n",
      "\n",
      "    accuracy                           0.58      5999\n",
      "   macro avg       0.86      0.33      0.25      5999\n",
      "weighted avg       0.76      0.58      0.43      5999\n",
      "\n",
      "cohen_kappa: 0.0\n"
     ]
    }
   ],
   "source": [
    "X=df[['sentences', 'words', 'verbs', 'nouns', 'punctuations', 'characters',\n",
    "       'symbols', 'stopwords', 'pos_x']].values\n",
    "\n",
    "y = df['quality_code'].values\n",
    "X_train, X_test, y_train, y_test = train_test_split(X, y, test_size=0.2, random_state=42, stratify=y)\n",
    "\n",
    "clf = make_pipeline(MinMaxScaler(), SVC(gamma='scale', kernel='linear'))\n",
    "clf.fit(X_train, y_train)\n",
    "\n",
    "y_pred = clf.predict(X_test)\n",
    "print(classification_report(y_test, y_pred, zero_division=True))\n",
    "print(f'cohen_kappa: {cohen_kappa_score(y_test, y_pred)}')"
   ]
  },
  {
   "cell_type": "markdown",
   "id": "902a7fec",
   "metadata": {},
   "source": [
    "##### Random Forest"
   ]
  },
  {
   "cell_type": "code",
   "execution_count": 7,
   "id": "6524e317",
   "metadata": {},
   "outputs": [
    {
     "name": "stdout",
     "output_type": "stream",
     "text": [
      "              precision    recall  f1-score   support\n",
      "\n",
      "           0       0.86      0.85      0.85      2070\n",
      "           1       0.92      0.95      0.93      3505\n",
      "           2       0.76      0.59      0.66       424\n",
      "\n",
      "    accuracy                           0.89      5999\n",
      "   macro avg       0.84      0.80      0.82      5999\n",
      "weighted avg       0.89      0.89      0.89      5999\n",
      "\n",
      "cohen_kappa: 0.7889740193539279\n"
     ]
    }
   ],
   "source": [
    "X=df[['sentences', 'words', 'verbs', 'nouns', 'punctuations', 'characters',\n",
    "       'symbols', 'stopwords', 'pos_x']].values\n",
    "\n",
    "y = df['quality_code'].values\n",
    "X_train, X_test, y_train, y_test = train_test_split(X, y, test_size=0.2, random_state=42, stratify=y)\n",
    "\n",
    "clf2 = make_pipeline(MinMaxScaler(), RandomForestClassifier())\n",
    "clf2.fit(X_train, y_train)\n",
    "\n",
    "y_pred = clf2.predict(X_test)\n",
    "print(classification_report(y_test, y_pred, zero_division=True))\n",
    "print(f'cohen_kappa: {cohen_kappa_score(y_test, y_pred)}')"
   ]
  },
  {
   "cell_type": "code",
   "execution_count": null,
   "id": "db3841c0",
   "metadata": {},
   "outputs": [],
   "source": []
  }
 ],
 "metadata": {
  "kernelspec": {
   "display_name": "Python 3 (ipykernel)",
   "language": "python",
   "name": "python3"
  },
  "language_info": {
   "codemirror_mode": {
    "name": "ipython",
    "version": 3
   },
   "file_extension": ".py",
   "mimetype": "text/x-python",
   "name": "python",
   "nbconvert_exporter": "python",
   "pygments_lexer": "ipython3",
   "version": "3.10.12"
  }
 },
 "nbformat": 4,
 "nbformat_minor": 5
}
